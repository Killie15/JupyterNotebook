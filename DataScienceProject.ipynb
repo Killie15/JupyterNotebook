{
  "metadata": {
    "kernelspec": {
      "name": "python",
      "display_name": "Python (Pyodide)",
      "language": "python"
    },
    "language_info": {
      "codemirror_mode": {
        "name": "python",
        "version": 3
      },
      "file_extension": ".py",
      "mimetype": "text/x-python",
      "name": "python",
      "nbconvert_exporter": "python",
      "pygments_lexer": "ipython3",
      "version": "3.8"
    }
  },
  "nbformat_minor": 4,
  "nbformat": 4,
  "cells": [
    {
      "cell_type": "markdown",
      "source": "Data Science Project",
      "metadata": {}
    },
    {
      "cell_type": "markdown",
      "source": "This is a notebook about my data science project.",
      "metadata": {}
    },
    {
      "cell_type": "markdown",
      "source": "Some data science languages are python, R, C, etc.",
      "metadata": {}
    },
    {
      "cell_type": "markdown",
      "source": "Keras, Tensorflow, pandas, ggplot.",
      "metadata": {}
    },
    {
      "cell_type": "markdown",
      "source": "From now, we are going to do math",
      "metadata": {}
    },
    {
      "cell_type": "code",
      "source": "print(2+2*4)",
      "metadata": {
        "trusted": true
      },
      "outputs": [
        {
          "name": "stdout",
          "text": "10\n",
          "output_type": "stream"
        }
      ],
      "execution_count": 2
    },
    {
      "cell_type": "code",
      "source": "def timeconverter(minutes):\n    print(\"This is \" + str((minutes//60)) + \" hours.\")\n\ntimeconverter(900)\n",
      "metadata": {
        "trusted": true
      },
      "outputs": [
        {
          "name": "stdout",
          "text": "This is 15 hours\n",
          "output_type": "stream"
        }
      ],
      "execution_count": 12
    },
    {
      "cell_type": "markdown",
      "source": "The objectives of the code was to make a function that takes minutes and turns them into hours.",
      "metadata": {}
    },
    {
      "cell_type": "markdown",
      "source": "Das me, am author: Martin White",
      "metadata": {}
    },
    {
      "cell_type": "markdown",
      "source": "",
      "metadata": {}
    }
  ]
}